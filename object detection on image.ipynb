{
 "cells": [
  {
   "cell_type": "code",
   "execution_count": 1,
   "metadata": {},
   "outputs": [],
   "source": [
    "# import the necessary packages\n",
    "import numpy as np\n",
    "import tensorflow as tf\n",
    "import cv2\n",
    "import time\n",
    "import os"
   ]
  },
  {
   "cell_type": "code",
   "execution_count": 2,
   "metadata": {},
   "outputs": [],
   "source": [
    "#open the directory ans set confidence amd threshold for predicting\n",
    "yolo_dir = os.path.join(\"yolo-coco\")\n",
    "conf=0.5\n",
    "threshold = 0.3"
   ]
  },
  {
   "cell_type": "code",
   "execution_count": 4,
   "metadata": {},
   "outputs": [],
   "source": [
    "# load the COCO class labels our YOLO model was trained on\n",
    "labelspath = os.path.sep.join([yolo_dir, \"coco.names\"])\n",
    "labels = open(labelspath).read().strip().split(\"\\n\")"
   ]
  },
  {
   "cell_type": "code",
   "execution_count": 12,
   "metadata": {},
   "outputs": [],
   "source": [
    "# initialize a list of colors to represent each possible class label\n",
    "np.random.seed(42)\n",
    "colors = np.random.randint(0,255, size= (len(labels), 3), dtype= \"uint8\")"
   ]
  },
  {
   "cell_type": "code",
   "execution_count": 14,
   "metadata": {},
   "outputs": [],
   "source": [
    "# derive the paths to the YOLO weights and model configuration\n",
    "weights_path = os.path.sep.join([yolo_dir, \"yolov3.weights\"])\n",
    "config_path = os.path.sep.join([yolo_dir, \"yolov3.cfg\"])\n"
   ]
  },
  {
   "cell_type": "code",
   "execution_count": 15,
   "metadata": {},
   "outputs": [],
   "source": [
    "# load our YOLO object detector trained on COCO dataset (80 classes)\n",
    "net = cv2.dnn.readNetFromDarknet(config_path, weights_path)"
   ]
  },
  {
   "cell_type": "code",
   "execution_count": 25,
   "metadata": {},
   "outputs": [
    {
     "name": "stdout",
     "output_type": "stream",
     "text": [
      "[INFO] YOLO took 1.648670 seconds\n"
     ]
    }
   ],
   "source": [
    "# load our input image and grab its spatial dimensions\n",
    "image = cv2.imread(\"images/baggage_claim.jpg\")\n",
    "(H,W) = image.shape[:2]\n",
    "# determine only the *output* layer names that we need from YOLO\n",
    "ln = net.getLayerNames()\n",
    "ln = [ln[i[0] - 1] for i in net.getUnconnectedOutLayers()]\n",
    "\n",
    "# construct a blob from the input image and then perform a forward\n",
    "# pass of the YOLO object detector, giving us our bounding boxes and\n",
    "# associated probabilities\n",
    "blob = cv2.dnn.blobFromImage(image, 1/255.0, (416,416), swapRB=True, crop=False)\n",
    "net.setInput(blob)\n",
    "start = time.time()\n",
    "layeroutputs = net.forward(ln)\n",
    "end = time.time()\n",
    "\n",
    "# show timing information on YOLO\n",
    "print(\"[INFO] YOLO took {:.6f} seconds\".format(end - start))"
   ]
  },
  {
   "cell_type": "code",
   "execution_count": 26,
   "metadata": {},
   "outputs": [],
   "source": [
    "# initialize our lists of detected bounding boxes, confidences, and class IDs, respectively\n",
    "boxes = []\n",
    "confidences =[]\n",
    "classids = []\n",
    "\n",
    "# loop over each of the layer outputs\n",
    "for output in layeroutputs:\n",
    "    # loop over each of the detections\n",
    "    for detection in output:\n",
    "        # extract the class ID and confidence (i.e., probability) of the current object detection\n",
    "        scores = detection[5:]\n",
    "        classid = np.argmax(scores)\n",
    "        confidence = scores[classid]\n",
    "        # filter out weak predictions by ensuring the detected probability is greater than the minimum probability\n",
    "        if confidence > conf:\n",
    "            # scale the bounding box coordinates back relative to the size of the image, keeping in mind that YOLO actually\n",
    "            # returns the center (x, y)-coordinates of the bounding box followed by the boxes' width and height\n",
    "            box = detection[0:4] * np.array([W, H, W, H])            \n",
    "            (centerX, centerY, width, height)  = box.astype(\"int\")\n",
    "            # use the center (x, y)-coordinates to derive the top and and left corner of the bounding box\n",
    "            X = int(centerX - (width/2))\n",
    "            Y = int(centerY - (height/2))\n",
    "            \n",
    "            # update our list of bounding box coordinates, confidences, and class IDs\n",
    "            boxes.append([X, Y, int(width), int(height)])\n",
    "            confidences.append(float(confidence))\n",
    "            classids.append(classid)\n",
    "\n",
    "# apply non-maxima suppression to suppress weak, overlapping bounding boxes\n",
    "idxs = cv2.dnn.NMSBoxes(boxes, confidences, conf, threshold)\n"
   ]
  },
  {
   "cell_type": "code",
   "execution_count": 32,
   "metadata": {},
   "outputs": [
    {
     "data": {
      "text/plain": [
       "27"
      ]
     },
     "execution_count": 32,
     "metadata": {},
     "output_type": "execute_result"
    }
   ],
   "source": [
    "# ensure at least one detection exists\n",
    "if len(idxs) > 0:\n",
    "    # loop over the indexes we are keeping\n",
    "    for i in idxs.flatten():\n",
    "        # extract the bounding box coordinates\n",
    "        (x, y) = (boxes[i][0], boxes[i][1])\n",
    "        (w, h) = (boxes[i][2], boxes[i][3])\n",
    "        # draw a bounding box rectangle and label on the image\n",
    "        color = [int(c) for c in colors[classids[i]]]\n",
    "        cv2.rectangle(image, (x, y), (x + w, y + h), color, 2)\n",
    "        text = \"{}: {:.4f}\".format(labels[classids[i]], confidences[i])\n",
    "        cv2.putText(image, text, (x, y - 5), cv2.FONT_HERSHEY_SIMPLEX, 0.5, color, 2)\n",
    "# show the output image\n",
    "cv2.imshow(\"Image\", image)\n",
    "cv2.waitKey(0)"
   ]
  },
  {
   "cell_type": "code",
   "execution_count": null,
   "metadata": {},
   "outputs": [],
   "source": []
  }
 ],
 "metadata": {
  "kernelspec": {
   "display_name": "Python 3",
   "language": "python",
   "name": "python3"
  },
  "language_info": {
   "codemirror_mode": {
    "name": "ipython",
    "version": 3
   },
   "file_extension": ".py",
   "mimetype": "text/x-python",
   "name": "python",
   "nbconvert_exporter": "python",
   "pygments_lexer": "ipython3",
   "version": "3.7.4"
  }
 },
 "nbformat": 4,
 "nbformat_minor": 4
}
